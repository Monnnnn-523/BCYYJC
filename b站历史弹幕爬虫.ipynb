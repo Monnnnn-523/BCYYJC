{
 "cells": [
  {
   "cell_type": "code",
   "execution_count": 1,
   "metadata": {},
   "outputs": [],
   "source": [
    "import requests\n",
    "import json\n",
    "import datetime\n",
    "import re\n",
    "import os\n",
    "import xlwt\n",
    "\n"
   ]
  },
  {
   "cell_type": "code",
   "execution_count": 2,
   "metadata": {},
   "outputs": [],
   "source": [
    "# 全局headers\n",
    "headers = {}"
   ]
  },
  {
   "cell_type": "code",
   "execution_count": 3,
   "metadata": {},
   "outputs": [],
   "source": [
    "# 根据BV号获取cid，考虑视频分P，返回一个cid列表\n",
    "def get_cid(bv):\n",
    "    cid_url = f'https://api.bilibili.com/x/player/pagelist?bvid={bv}'\n",
    "    res = requests.get(cid_url)\n",
    "    res_text = res.text\n",
    "    res_dict = json.loads(res_text)\n",
    "    part_list = res_dict['data']\n",
    "    new_part_list = []\n",
    "    for part in part_list:\n",
    "        new_part = {\n",
    "            'cid': part.get('cid'),\n",
    "            'part_name': part.get('part')\n",
    "        }\n",
    "        new_part_list.append(new_part)\n",
    "    return new_part_list"
   ]
  },
  {
   "cell_type": "code",
   "execution_count": 4,
   "metadata": {},
   "outputs": [],
   "source": [
    "# 获取日期列表\n",
    "def _get_one_month_date_list(cid, month):\n",
    "    date_list_url = f'https://api.bilibili.com/x/v2/dm/history/index?type=1&oid={cid}&month={month}'\n",
    "    res = requests.get(date_list_url, headers=headers)\n",
    "    res_dict = json.loads(res.text)\n",
    "    date_list = res_dict.get('data')\n",
    "    return date_list\n",
    "\n"
   ]
  },
  {
   "cell_type": "code",
   "execution_count": 5,
   "metadata": {},
   "outputs": [],
   "source": [
    "\n",
    "# 获取所有历史弹幕的日期 2016-03 datetime day+1\n",
    "def get_date_history(cid_data_list):\n",
    "    date_history_list = []\n",
    "    for cid_item in cid_data_list:\n",
    "        now = datetime.datetime.now()\n",
    "        year = now.year\n",
    "        month = now.month\n",
    "        while True:\n",
    "            # 获取一个月的日期列表\n",
    "            one_month_date_list = _get_one_month_date_list(cid_item['cid'], f'{year}-{month:>02}')\n",
    "            if one_month_date_list:\n",
    "                one_month_date_list.reverse()\n",
    "                cid_item['date_list'] = cid_item.get('date_list', [])\n",
    "                cid_item['date_list'].extend(one_month_date_list)\n",
    "                this_month_first_day = datetime.date(year, month, 1)  # 4月1 减 1天  上一个月的最后一天\n",
    "                pre_month_last_day = this_month_first_day - datetime.timedelta(days=1)\n",
    "                year = pre_month_last_day.year\n",
    "                month = pre_month_last_day.month\n",
    "            else:\n",
    "                break\n",
    "        date_history_list.append(cid_item)\n",
    "    return date_history_list\n",
    "\n",
    "\n"
   ]
  },
  {
   "cell_type": "code",
   "execution_count": 6,
   "metadata": {},
   "outputs": [],
   "source": [
    "# 下载弹幕xml文件\n",
    "def _get_dan_mu_xml(cid, date):\n",
    "    dan_mu_url = f'https://api.bilibili.com/x/v2/dm/history?type=1&oid={cid}&date={date}'\n",
    "    res = requests.get(dan_mu_url, headers=headers)\n",
    "    dan_mu_xml = res.content.decode('utf8')\n",
    "    return dan_mu_xml\n",
    "\n"
   ]
  },
  {
   "cell_type": "code",
   "execution_count": 7,
   "metadata": {},
   "outputs": [],
   "source": [
    "# 解析提取弹幕文件\n",
    "\n",
    "def _parse_dan_mu(dan_mu_xml):\n",
    "    reg = re.compile('<d p=\"([\\s\\S]*?)\">([\\s\\S]+?)</d>')\n",
    "    find_result = reg.findall(dan_mu_xml)\n",
    "    dan_mu_list = []\n",
    "    for line in find_result:\n",
    "        p, dan_mu = line\n",
    "        time_stamp = int(p.split(',')[4])\n",
    "        date_array = datetime.datetime.fromtimestamp(time_stamp)\n",
    "        send_time = date_array.strftime('%Y-%m-%d %H:%M:%S')\n",
    "        dan_mu_list.append((send_time, dan_mu))\n",
    "    return dan_mu_list\n",
    "\n"
   ]
  },
  {
   "cell_type": "code",
   "execution_count": 8,
   "metadata": {},
   "outputs": [],
   "source": [
    "# 根据日期获取当天的弹幕\n",
    "def get_all_dan_mu(date_history_list, bv):\n",
    "    for item in date_history_list:\n",
    "        # 没有分P的视频是没有part_name的\n",
    "        part_name = item.get('part_name')\n",
    "        # 不确定没有分P的视频有没有分P名，所以这里先判断一下\n",
    "        filename = bv\n",
    "        if part_name:\n",
    "            filename = f'{bv}_{part_name}'\n",
    "        with open(f'{filename}.txt', 'w', encoding='utf8') as f:\n",
    "            for date in item['date_list']:\n",
    "                dan_mu_xml = _get_dan_mu_xml(item['cid'], date)\n",
    "                dan_mu_list = _parse_dan_mu(dan_mu_xml)\n",
    "                # 只打印前每天的前1条，提升下用户体验\n",
    "                print(dan_mu_list[0])\n",
    "                for dan_mu_item in dan_mu_list:\n",
    "                    # 使用 <;> 作为时间和弹幕的分隔符\n",
    "                    line = '<;>'.join(dan_mu_item)\n",
    "                    f.writelines(line)\n",
    "                    f.write('\\n')\n",
    "                    \n",
    "\n"
   ]
  },
  {
   "cell_type": "code",
   "execution_count": 9,
   "metadata": {
    "scrolled": true
   },
   "outputs": [
    {
     "name": "stdout",
     "output_type": "stream",
     "text": [
      "('2020-06-27 23:29:30', '允公允能，日新月异')\n",
      "('2020-06-26 23:42:54', '仙交牛逼！')\n",
      "('2020-06-25 23:54:04', '南开南开 难以离开')\n",
      "('2020-06-24 23:34:43', '北疆？我石河子大学欢迎各位梦想家。')\n",
      "('2020-06-23 23:48:22', '欢迎去优秀的北理，冲呀！')\n",
      "('2020-06-22 23:57:16', '西交冲啊！西交冲啊！')\n",
      "('2020-06-21 22:52:03', '海纳百川取则行远')\n",
      "('2020-06-20 23:40:42', '欢迎报考浙江大学软件学院')\n",
      "('2020-06-19 23:58:14', '泪目')\n",
      "('2020-06-18 23:27:14', '欢迎报考中国政法大学！！！')\n",
      "('2020-06-17 23:44:32', '西交大等我')\n",
      "('2020-06-16 23:50:17', '前程似锦！！！')\n",
      "('2020-06-15 23:11:20', '欢迎报考中国政法大学！')\n",
      "('2020-06-14 23:43:07', '清华我来啦')\n",
      "('2020-06-13 23:47:19', '清华等我')\n",
      "('2020-06-12 23:40:14', '勤勇忠信')\n",
      "('2020-06-11 20:03:21', '这个声音好绝')\n",
      "('2020-06-10 23:45:44', '山大没排面')\n",
      "('2020-06-09 23:58:39', '财大nb 财大nb 财大nb')\n",
      "('2020-06-08 23:59:20', '我北排面！')\n",
      "('2020-06-07 23:59:54', '哈工大')\n",
      "('2020-06-06 23:53:35', '南开我会去的')\n",
      "('2020-06-05 23:01:43', '南开')\n",
      "('2020-06-04 23:59:59', '大工大工虽然我不是大工的')\n",
      "('2020-06-03 23:59:23', '欢迎报考 THU')\n",
      "('2020-06-02 23:54:04', '2021二校门见！')\n",
      "('2020-06-01 23:58:59', '南开nb')\n",
      "('2020-05-31 23:59:47', '欢迎报考北京大学')\n",
      "('2020-05-30 23:59:46', '新清华学堂！')\n"
     ]
    }
   ],
   "source": [
    "if __name__ == '__main__':\n",
    "    bv = 'BV1fT4y1u7mi'\n",
    "    # 查看历史弹幕必须先登录，需要发送cookies，请到浏览器登录B站，然后复制cookies\n",
    "    cookie_str = \"\"\"CURRENT_FNVAL=16; bfe_id=da609d6ad479671e4cd33f2670c43937; bsource=seo_baidu; PVID=1; bp_video_offset_5207512=402596602100865479; DedeUserID=5207512; DedeUserID__ckMd5=bca60d90001d713b; SESSDATA=aba92a47%2C1608059683%2C7fd46*61; bili_jct=762e8f74a930b704e7601ade00c9aa0c; CURRENT_QUALITY=80; sid=huycf6re; im_notify_type_5207512=0; stardustvideo=1; laboratory=1-1; im_local_unread_5207512=0; _uuid=0CDED6C4-0577-6872-8419-D92FDAB7F08A88855infoc; im_seqno_5207512=3; rpdid=|(JYYRRkYY~k0J'ull)JRJ~)|; buvid3=69F3CF92-E6DA-47AC-8CB6-B61E3F1D86A648881infoc; LIVE_BUVID=AUTO9115395293273073\"\"\"\n",
    "    headers['cookie'] = cookie_str\n",
    "    # 根据BV号获取cid,视频可能有分P，需考虑\n",
    "    cid_data_list = get_cid(bv)\n",
    "    # 获取所有历史弹幕的日期\n",
    "    date_history_list = get_date_history(cid_data_list)\n",
    "    # 根据日期获取当天的弹幕\n",
    "    get_all_dan_mu(date_history_list, bv)\n"
   ]
  },
  {
   "cell_type": "code",
   "execution_count": null,
   "metadata": {},
   "outputs": [],
   "source": []
  }
 ],
 "metadata": {
  "kernelspec": {
   "display_name": "Python 3",
   "language": "python",
   "name": "python3"
  },
  "language_info": {
   "codemirror_mode": {
    "name": "ipython",
    "version": 3
   },
   "file_extension": ".py",
   "mimetype": "text/x-python",
   "name": "python",
   "nbconvert_exporter": "python",
   "pygments_lexer": "ipython3",
   "version": "3.7.6"
  }
 },
 "nbformat": 4,
 "nbformat_minor": 4
}
